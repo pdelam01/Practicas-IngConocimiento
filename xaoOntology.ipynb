{
 "cells": [
  {
   "cell_type": "code",
   "execution_count": 4,
   "metadata": {},
   "outputs": [],
   "source": [
    "# Práctica 10: xao.owl "
   ]
  },
  {
   "cell_type": "code",
   "execution_count": 1,
   "metadata": {},
   "outputs": [
    {
     "name": "stderr",
     "output_type": "stream",
     "text": [
      "* Owlready2 * Warning: optimized Cython parser module 'owlready2_optimized' is not available, defaulting to slower Python implementation\n"
     ]
    },
    {
     "data": {
      "text/plain": [
       "get_ontology(\"http://purl.obolibrary.org/obo/xao.owl#\")"
      ]
     },
     "execution_count": 1,
     "metadata": {},
     "output_type": "execute_result"
    }
   ],
   "source": [
    "from owlready2 import *\n",
    "onto = get_ontology(\"xao.owl\")\n",
    "onto.load()\n",
    "#onto.save(file=\"onotologiaModificada.rdf\", format=\"rdfxml\")"
   ]
  },
  {
   "cell_type": "code",
   "execution_count": 3,
   "metadata": {},
   "outputs": [
    {
     "name": "stdout",
     "output_type": "stream",
     "text": [
      "Clases: \n",
      "[obo.XAO_0000000, obo.XAO_0000001, obo.XAO_0003011, obo.XAO_1000078, obo.XAO_1000020, obo.XAO_0000002, obo.XAO_0003028, obo.XAO_1000041, obo.XAO_0000003, obo.XAO_0003040, obo.XAO_0000004, obo.XAO_0000005, obo.XAO_0004620, obo.XAO_0003196, obo.XAO_0000041, obo.XAO_0000320, obo.XAO_0004206, obo.XAO_0004209, obo.XAO_1000054, obo.XAO_1000036, obo.XAO_0000006, obo.XAO_0003195, obo.XAO_0000223, obo.XAO_1000070, obo.XAO_0000007, obo.XAO_0000179, obo.XAO_0000437, obo.XAO_1000074, obo.XAO_0000008, obo.XAO_0003037, obo.XAO_0000240, obo.XAO_1000044, obo.XAO_0000009, obo.XAO_0000010, obo.XAO_0003165, obo.XAO_0000215, obo.XAO_0003024, obo.XAO_0003204, obo.XAO_1000038, obo.XAO_0000011, obo.XAO_0000307, obo.XAO_0000012, obo.XAO_0000013, obo.XAO_0000014, obo.XAO_0000015, obo.XAO_0000250, obo.XAO_0000016, obo.XAO_0004003, obo.XAO_0000249, obo.XAO_0004086, obo.XAO_0000017, obo.XAO_0000158, obo.XAO_0000267, obo.XAO_0004208, obo.XAO_1000052, obo.XAO_0000018, obo.XAO_0000140, obo.XAO_0000085, obo.XAO_1000064, obo.XAO_1000055, obo.XAO_0000020, obo.XAO_0000021, obo.XAO_0003186, obo.XAO_0000022, obo.XAO_0005241, obo.XAO_0000023, obo.XAO_0000176, obo.XAO_0000028, obo.XAO_1000039, obo.XAO_0000024, obo.XAO_0001001, obo.XAO_1000025, obo.XAO_0000025, obo.XAO_1000051, obo.XAO_0000026, obo.XAO_0000048, obo.XAO_1000056, obo.XAO_0000027, obo.XAO_0000209, obo.XAO_0000270, obo.XAO_0004091, obo.XAO_1000023, obo.XAO_0000029, obo.XAO_0003045, obo.XAO_0000030, obo.XAO_0004005, obo.XAO_0000035, obo.XAO_1000001, obo.XAO_1000092, obo.XAO_0000031, obo.XAO_0004621, obo.XAO_0005017, obo.XAO_0000032, obo.XAO_0003043, obo.XAO_1000034, obo.XAO_0000033, obo.XAO_0000049, obo.XAO_1000062, obo.XAO_0000034, obo.XAO_0003042, obo.XAO_0004394, obo.XAO_1000049, obo.XAO_0003012, obo.XAO_0000036, obo.XAO_1000022, obo.XAO_1000016, obo.XAO_0000037, obo.XAO_1000017, obo.XAO_0000038, obo.XAO_0000039, obo.XAO_0000040, obo.XAO_0000042, obo.XAO_0000043, obo.XAO_0000044, obo.XAO_0000045, obo.XAO_0000046, obo.XAO_0000047, obo.XAO_1000033, obo.XAO_0004103, obo.XAO_0004104, obo.XAO_0000050, obo.XAO_0003044, obo.XAO_0000051, obo.XAO_0003010, obo.XAO_0004423, obo.XAO_0005019, obo.XAO_1000046, obo.XAO_0000052, obo.XAO_0000115, obo.XAO_0000358, obo.XAO_0000053, obo.XAO_0000079, obo.XAO_1000037, obo.XAO_0000054, obo.XAO_1000035, obo.XAO_0000055, obo.XAO_0000205, obo.XAO_0000056, obo.XAO_0000090, obo.XAO_1000075, obo.XAO_1000040, obo.XAO_0000057, obo.XAO_0000259, obo.XAO_0004042, obo.XAO_1000059, obo.XAO_1000024, obo.XAO_0000058, obo.XAO_1000027, obo.XAO_0000059, obo.XAO_0000061, obo.XAO_0000062, obo.XAO_0002000, obo.XAO_0000264, obo.XAO_1000071, obo.XAO_1000045, obo.XAO_0000063, obo.XAO_0004000, obo.XAO_1000067, obo.XAO_0000064, obo.XAO_0003034, obo.XAO_0000100, obo.XAO_0000336, obo.XAO_0000065, obo.XAO_0000172, obo.XAO_1000047, obo.XAO_0000066, obo.XAO_1000043, obo.XAO_0000067, obo.XAO_0000122, obo.XAO_0000311, obo.XAO_0004473, obo.XAO_1000026, obo.XAO_0000068, obo.XAO_0000069, obo.XAO_0000070, obo.XAO_0000071, obo.XAO_0000072, obo.XAO_0000073, obo.XAO_0000074, obo.XAO_0000075, obo.XAO_0000076, obo.XAO_0000077, obo.XAO_0003244, obo.XAO_0000078, obo.XAO_0000208, obo.XAO_1000030, obo.XAO_0000080, obo.XAO_1000060, obo.XAO_0000081, obo.XAO_0000082, obo.XAO_0000088, obo.XAO_0000089, obo.XAO_0000083, obo.XAO_0000084, obo.XAO_1000031, obo.XAO_0000086, obo.XAO_0004122, obo.XAO_0000087, obo.XAO_1000042, obo.XAO_0000091, obo.XAO_0000092, obo.XAO_0003190, obo.XAO_1000050, obo.XAO_0000093, obo.XAO_0000281, obo.XAO_0000094, obo.XAO_0000095, obo.XAO_0003194, obo.XAO_0000178, obo.XAO_1000048, obo.XAO_0000096, obo.XAO_0004261, obo.XAO_0000097, obo.XAO_0003176, obo.XAO_0000102, obo.XAO_0000098, obo.XAO_0000247, obo.XAO_0000099, obo.XAO_0003002, obo.XAO_0000101, obo.XAO_0000232, obo.XAO_0004513, obo.XAO_0000282, obo.XAO_0000103, obo.XAO_0000125, obo.XAO_0004512, obo.XAO_0000104, obo.XAO_0004511, obo.XAO_0000105, obo.XAO_0000106, obo.XAO_0000107, obo.XAO_0000108, obo.XAO_0004057, obo.XAO_0000109, obo.XAO_0005245, obo.XAO_0000110, obo.XAO_0000111, obo.XAO_0000113, obo.XAO_0000114, obo.XAO_0001011, obo.XAO_0000116, obo.XAO_0000117, obo.XAO_0000118, obo.XAO_0005127, obo.XAO_0000119, obo.XAO_0005140, obo.XAO_1000066, obo.XAO_0000120, obo.XAO_0000448, obo.XAO_1000065, obo.XAO_0000121, obo.XAO_0000123, obo.XAO_1000010, obo.XAO_0000124, obo.XAO_0004001, obo.XAO_0004144, obo.XAO_0000126, obo.XAO_0003029, obo.XAO_0000127, obo.XAO_0000128, obo.XAO_0000129, obo.XAO_1000053, obo.XAO_0000130, obo.XAO_0000131, obo.XAO_0000132, obo.XAO_0000133, obo.XAO_0003164, obo.XAO_0003266, obo.XAO_0000134, obo.XAO_0000135, obo.XAO_0003041, obo.XAO_0004205, obo.XAO_0000136, obo.XAO_0000467, obo.XAO_0001103, obo.XAO_0000137, obo.XAO_0000138, obo.XAO_0000139, obo.XAO_0004466, obo.XAO_0000141, obo.XAO_0005244, obo.XAO_0003025, obo.XAO_0000142, obo.XAO_0000143, obo.XAO_0000144, obo.XAO_1000057, obo.XAO_0000146, obo.XAO_0000292, obo.XAO_0000147, obo.XAO_0000148, obo.XAO_0000149, obo.XAO_0000150, obo.XAO_0000151, obo.XAO_0000152, obo.XAO_0000153, obo.XAO_0000154, obo.XAO_0000155, obo.XAO_0003006, obo.XAO_0000156, obo.XAO_0003005, obo.XAO_0000157, obo.XAO_0003146, obo.XAO_0000159, obo.XAO_0000160, obo.XAO_0003198, obo.XAO_0000162, obo.XAO_0000444, obo.XAO_0000163, obo.XAO_0003152, obo.XAO_0000164, obo.XAO_1000058, obo.XAO_0000165, obo.XAO_0000166, obo.XAO_0000319, obo.XAO_0000167, obo.XAO_0000447, obo.XAO_0000452, obo.XAO_0000168, obo.XAO_0000169, obo.XAO_0004038, obo.XAO_0004276, obo.XAO_0000170, obo.XAO_0004026, obo.XAO_0000171, obo.XAO_0003160, obo.XAO_0004274, obo.XAO_0004313, obo.XAO_0000173, obo.XAO_0004030, obo.XAO_0000399, obo.XAO_0005325, obo.XAO_0000174, obo.XAO_0000314, obo.XAO_0000315, obo.XAO_0000175, obo.XAO_0000177, obo.XAO_0000228, obo.XAO_0000180, obo.XAO_0000181, obo.XAO_0000182, obo.XAO_0000183, obo.XAO_0000185, obo.XAO_0004529, obo.XAO_0000186, obo.XAO_0000187, obo.XAO_0000188, obo.XAO_0000429, obo.XAO_0000475, obo.XAO_0000189, obo.XAO_0000190, obo.XAO_0004013, obo.XAO_0005141, obo.XAO_0000191, obo.XAO_0000192, obo.XAO_0000193, obo.XAO_0000195, obo.XAO_0000214, obo.XAO_0000196, obo.XAO_0000197, obo.XAO_0000198, obo.XAO_0000199, obo.XAO_0000200, obo.XAO_0003016, obo.XAO_0000202, obo.XAO_1000014, obo.XAO_0000201, obo.XAO_1000021, obo.XAO_0000203, obo.XAO_0000204, obo.XAO_0003047, obo.XAO_0005199, obo.XAO_0004406, obo.XAO_0000206, obo.XAO_1000018, obo.XAO_0000207, obo.XAO_0000294, obo.XAO_0000210, obo.XAO_0000211, obo.XAO_0000213, obo.XAO_0000216, obo.XAO_0000217, obo.XAO_0000220, obo.XAO_0000218, obo.XAO_0003013, obo.XAO_0000219, obo.XAO_0005080, obo.XAO_0000396, obo.XAO_0000403, obo.XAO_0000404, obo.XAO_0000405, obo.XAO_0000406, obo.XAO_0000407, obo.XAO_0000408, obo.XAO_0000409, obo.XAO_0000410, obo.XAO_0000411, obo.XAO_0000412, obo.XAO_0000416, obo.XAO_0000417, obo.XAO_0000418, obo.XAO_0000419, obo.XAO_0000420, obo.XAO_0000421, obo.XAO_0000422, obo.XAO_0000423, obo.XAO_0000424, obo.XAO_0000425, obo.XAO_0004528, obo.XAO_0000221, obo.XAO_0000222, obo.XAO_0004207, obo.XAO_0000224, obo.XAO_0000225, obo.XAO_0000226, obo.XAO_0004290, obo.XAO_0000227, obo.XAO_0004090, obo.XAO_0005316, obo.XAO_0000229, obo.XAO_0000256, obo.XAO_1000083, obo.XAO_0000230, obo.XAO_0000258, obo.XAO_0000231, obo.XAO_0000233, obo.XAO_0000280, obo.XAO_0000234, obo.XAO_0005038, obo.XAO_1000088, obo.XAO_0000235, obo.XAO_0005062, obo.XAO_0000236, obo.XAO_0000237, obo.XAO_0000238, obo.XAO_0000239, obo.XAO_0005283, obo.XAO_0000241, obo.XAO_0000242, obo.XAO_0000243, obo.XAO_0000244, obo.XAO_0000245, obo.XAO_0000246, obo.XAO_0000248, obo.XAO_1000032, obo.XAO_0000251, obo.XAO_0000252, obo.XAO_0000253, obo.XAO_0000254, obo.XAO_0000255, obo.XAO_0000268, obo.XAO_0000257, obo.XAO_0004134, obo.XAO_0000260, obo.XAO_0000261, obo.XAO_0000262, obo.XAO_0000263, obo.XAO_0003149, obo.XAO_0003046, obo.XAO_0000265, obo.XAO_0000266, obo.XAO_0000269, obo.XAO_1000072, obo.XAO_0000271, obo.XAO_0000272, obo.XAO_0000273, obo.XAO_0000274, obo.XAO_0000275, obo.XAO_0000276, obo.XAO_0000277, obo.XAO_0000278, obo.XAO_0000279, obo.XAO_0000283, obo.XAO_0000284, obo.XAO_0000285, obo.XAO_1000076, obo.XAO_0000286, obo.XAO_0004518, obo.XAO_0000287, obo.XAO_0004519, obo.XAO_0000288, obo.XAO_0000289, obo.XAO_0000290, obo.XAO_0000291, obo.XAO_0000293, obo.XAO_0000295, obo.XAO_0000296, obo.XAO_0003185, obo.XAO_0000297, obo.XAO_0000298, obo.XAO_0000299, obo.XAO_0000300, obo.XAO_0000301, obo.XAO_0000302, obo.XAO_0000303, obo.XAO_0000304, obo.XAO_0000305, obo.XAO_0000306, obo.XAO_0000309, obo.XAO_0000310, obo.XAO_0004087, obo.XAO_0000313, obo.XAO_0000316, obo.XAO_0004482, obo.XAO_0000318, obo.XAO_0005327, obo.XAO_0000323, obo.XAO_0004093, obo.XAO_0000324, obo.XAO_0000326, obo.XAO_0000327, obo.XAO_0000328, obo.XAO_0000329, obo.XAO_0000330, obo.XAO_0000331, obo.XAO_0000332, obo.XAO_0000333, obo.XAO_0000334, obo.XAO_0004185, obo.XAO_0004186, obo.XAO_0000337, obo.XAO_0000338, obo.XAO_0000339, obo.XAO_0000340, obo.XAO_0000341, obo.XAO_0004190, obo.XAO_0000342, obo.XAO_0000343, obo.XAO_0000344, obo.XAO_0000345, obo.XAO_0000439, obo.XAO_0000349, obo.XAO_0000351, obo.XAO_0000352, obo.XAO_0000353, obo.XAO_0000354, obo.XAO_0000366, obo.XAO_0000355, obo.XAO_0000356, obo.XAO_0004010, obo.XAO_0000357, obo.XAO_0000361, obo.XAO_1000061, obo.XAO_0000362, obo.XAO_0000363, obo.XAO_0000364, obo.XAO_0004151, obo.XAO_0000365, obo.XAO_0004152, obo.XAO_0000367, obo.XAO_0000368, obo.XAO_0000369, obo.XAO_0000370, obo.XAO_0000371, obo.XAO_0003199, obo.XAO_0000372, obo.XAO_0000373, obo.XAO_0000374, obo.XAO_0000375, obo.XAO_0001010, obo.XAO_0000376, obo.XAO_0000377, obo.XAO_0000378, obo.XAO_0000379, obo.XAO_0000380, obo.XAO_0000381, obo.XAO_0000382, obo.XAO_0000383, obo.XAO_0000384, obo.XAO_0000385, obo.XAO_0000386, obo.XAO_0000387, obo.XAO_0000388, obo.XAO_0000389, obo.XAO_0000390, obo.XAO_0000391, obo.XAO_0000392, obo.XAO_0000393, obo.XAO_0000394, obo.XAO_0000395, obo.XAO_0000397, obo.XAO_0003017, obo.XAO_0000401, obo.XAO_0000414, obo.XAO_0000415, obo.XAO_0003143, obo.XAO_0000426, obo.XAO_0000427, obo.XAO_0000428, obo.XAO_0005309, obo.XAO_0000430, obo.XAO_0000431, obo.XAO_0004012, obo.XAO_0003075, obo.XAO_1000000, obo.XAO_1000095, obo.XAO_0000440, obo.XAO_0000441, obo.XAO_0004411, obo.XAO_0000442, obo.XAO_0004002, obo.XAO_0000443, obo.XAO_0000445, obo.XAO_0003197, obo.XAO_0000446, obo.XAO_1000063, obo.XAO_0000449, obo.XAO_0004524, obo.XAO_0000451, obo.XAO_0000453, obo.XAO_0000454, obo.XAO_0000455, obo.XAO_0000457, obo.XAO_0005158, obo.XAO_0005130, obo.XAO_0000458, obo.XAO_0000459, obo.XAO_0000460, obo.XAO_0000461, obo.XAO_0000462, obo.XAO_0000463, obo.XAO_0000464, obo.XAO_0000465, obo.XAO_0004270, obo.XAO_0000469, obo.XAO_0004062, obo.XAO_0000470, obo.XAO_0000471, obo.XAO_0003014, obo.XAO_0000472, obo.XAO_0000474, obo.XAO_0001002, obo.XAO_0001012, obo.XAO_0001013, obo.XAO_0001014, obo.XAO_0004510, obo.XAO_0001015, obo.XAO_0001016, obo.XAO_0003015, obo.XAO_0003230, obo.XAO_0001017, obo.XAO_0001018, obo.XAO_0001019, obo.XAO_0005230, obo.XAO_0001020, obo.XAO_0001021, obo.XAO_0001101, obo.XAO_0001102, obo.XAO_0005243, obo.XAO_0004521, obo.XAO_0003000, obo.XAO_0003001, obo.XAO_0003004, obo.XAO_0003003, obo.XAO_0003007, obo.XAO_0003008, obo.XAO_0003009, obo.XAO_0005002, obo.XAO_0003241, obo.XAO_1000011, obo.XAO_0003255, obo.XAO_0003018, obo.XAO_0003019, obo.XAO_0003020, obo.XAO_0003021, obo.XAO_0003022, obo.XAO_0003023, obo.XAO_0004272, obo.XAO_0003026, obo.XAO_0003027, obo.XAO_0003161, obo.XAO_0003030, obo.XAO_0004284, obo.XAO_0003065, obo.XAO_0003031, obo.XAO_0004285, obo.XAO_0003066, obo.XAO_0003032, obo.XAO_0004265, obo.XAO_0003033, obo.XAO_0003035, obo.XAO_0003062, obo.XAO_0004300, obo.XAO_0003036, obo.XAO_0003061, obo.XAO_0004299, obo.XAO_1000068, obo.XAO_0003038, obo.XAO_0003039, obo.XAO_0003048, obo.XAO_0003150, obo.XAO_1000093, obo.XAO_0003049, obo.XAO_0003050, obo.XAO_0003051, obo.XAO_0003052, obo.XAO_0003053, obo.XAO_0003054, obo.XAO_0003055, obo.XAO_0003056, obo.XAO_0003057, obo.XAO_0003058, obo.XAO_0003059, obo.XAO_0003060, obo.XAO_0004289, obo.XAO_0003166, obo.XAO_0003063, obo.XAO_0003064, obo.XAO_0004493, obo.XAO_0003067, obo.XAO_0003068, obo.XAO_0003069, obo.XAO_0003070, obo.XAO_0003071, obo.XAO_0003072, obo.XAO_0003073, obo.XAO_0004011, obo.XAO_0003074, obo.XAO_0003076, obo.XAO_0004019, obo.XAO_0003077, obo.XAO_0003078, obo.XAO_0003079, obo.XAO_0003080, obo.XAO_0003081, obo.XAO_0003082, obo.XAO_0003083, obo.XAO_0003084, obo.XAO_0003085, obo.XAO_0003086, obo.XAO_0003087, obo.XAO_0003088, obo.XAO_0003090, obo.XAO_0003091, obo.XAO_0003092, obo.XAO_0004092, obo.XAO_0003093, obo.XAO_0003094, obo.XAO_0003095, obo.XAO_0003096, obo.XAO_0003097, obo.XAO_0003098, obo.XAO_0003099, obo.XAO_0004602, obo.XAO_0003100, obo.XAO_0003101, obo.XAO_0003102, obo.XAO_0004020, obo.XAO_1000073, obo.XAO_0003103, obo.XAO_0003162, obo.XAO_0004416, obo.XAO_0003104, obo.XAO_0003105, obo.XAO_0003106, obo.XAO_0003107, obo.XAO_0003108, obo.XAO_0003109, obo.XAO_0003110, obo.XAO_0003111, obo.XAO_0003112, obo.XAO_0003113, obo.XAO_0003114, obo.XAO_0003115, obo.XAO_0003116, obo.XAO_0003117, obo.XAO_0003118, obo.XAO_0003119, obo.XAO_0003120, obo.XAO_0003121, obo.XAO_0003122, obo.XAO_0003123, obo.XAO_0003124, obo.XAO_0003125, obo.XAO_0003126, obo.XAO_0003127, obo.XAO_0003128, obo.XAO_0003129, obo.XAO_0003130, obo.XAO_0003131, obo.XAO_0003132, obo.XAO_0003133, obo.XAO_0003134, obo.XAO_0003135, obo.XAO_0003136, obo.XAO_0003137, obo.XAO_0003138, obo.XAO_0003139, obo.XAO_0003140, obo.XAO_0003141, obo.XAO_0003142, obo.XAO_0003144, obo.XAO_0003145, obo.XAO_0003147, obo.XAO_0003151, obo.XAO_0003148, obo.XAO_0003153, obo.XAO_0003154, obo.XAO_0003155, obo.XAO_0005323, obo.XAO_0003156, obo.XAO_0003157, obo.XAO_0003159, obo.XAO_0003158, obo.XAO_0003163, obo.XAO_0003167, obo.XAO_0003168, obo.XAO_0003169, obo.XAO_0003170, obo.XAO_0003171, obo.XAO_0003172, obo.XAO_0003173, obo.XAO_0003174, obo.XAO_0003175, obo.XAO_0003177, obo.XAO_0003178, obo.XAO_0003179, obo.XAO_0003180, obo.XAO_0003181, obo.XAO_0003182, obo.XAO_0003183, obo.XAO_0003184, obo.XAO_0003187, obo.XAO_0003188, obo.XAO_0003189, obo.XAO_0003191, obo.XAO_0005198, obo.XAO_0003192, obo.XAO_0003193, obo.XAO_0003200, obo.XAO_0003201, obo.XAO_0003202, obo.XAO_0004007, obo.XAO_0003203, obo.XAO_0003205, obo.XAO_0003238, obo.XAO_0003206, obo.XAO_0003207, obo.XAO_1000069, obo.XAO_0003208, obo.XAO_0003209, obo.XAO_0004018, obo.XAO_0004297, obo.XAO_0003210, obo.XAO_0004295, obo.XAO_0003211, obo.XAO_0003212, obo.XAO_0003213, obo.XAO_0004298, obo.XAO_0003214, obo.XAO_0004296, obo.XAO_0004238, obo.XAO_0003215, obo.XAO_0003216, obo.XAO_0003217, obo.XAO_0003218, obo.XAO_0003219, obo.XAO_0003220, obo.XAO_0003221, obo.XAO_0003222, obo.XAO_0003223, obo.XAO_0003224, obo.XAO_0003225, obo.XAO_0003226, obo.XAO_0003227, obo.XAO_0003228, obo.XAO_0005226, obo.XAO_0003229, obo.XAO_0003231, obo.XAO_0003232, obo.XAO_0003233, obo.XAO_0003234, obo.XAO_0003235, obo.XAO_0003236, obo.XAO_0003237, obo.XAO_0004320, obo.XAO_0003239, obo.XAO_0003240, obo.XAO_0003242, obo.XAO_1000019, obo.XAO_0003245, obo.XAO_0003246, obo.XAO_0003247, obo.XAO_0003248, obo.XAO_0003249, obo.XAO_0003250, obo.XAO_0003251, obo.XAO_0003252, obo.XAO_0003253, obo.XAO_0004031, obo.XAO_0003254, obo.XAO_0003256, obo.XAO_0003257, obo.XAO_0003258, obo.XAO_0003259, obo.XAO_0003260, obo.XAO_0003261, obo.XAO_0003262, obo.XAO_0003263, obo.XAO_0003264, obo.XAO_0003265, obo.XAO_0003267, obo.XAO_0003268, obo.XAO_0005033, obo.XAO_0003269, obo.XAO_0004322, obo.XAO_0005287, obo.XAO_0004004, obo.XAO_0004006, obo.XAO_0004008, obo.XAO_0004009, obo.XAO_0004053, obo.XAO_0004022, obo.XAO_0004014, obo.XAO_0004015, obo.XAO_0004025, obo.XAO_0004016, obo.XAO_0004017, obo.XAO_0004021, obo.XAO_0004023, obo.XAO_0004279, obo.XAO_0004024, obo.XAO_0004027, obo.XAO_0004028, obo.XAO_0004029, obo.XAO_0004032, obo.XAO_0004033, obo.XAO_0004034, obo.XAO_0004035, obo.XAO_0005000, obo.XAO_0004036, obo.XAO_0004055, obo.XAO_0004037, obo.XAO_0004043, obo.XAO_0004039, obo.XAO_0004040, obo.XAO_0004041, obo.XAO_0004044, obo.XAO_0004045, obo.XAO_0004046, obo.XAO_0004047, obo.XAO_0004048, obo.XAO_0004049, obo.XAO_0004050, obo.XAO_0004051, obo.XAO_0004052, obo.XAO_0004054, obo.XAO_0004056, obo.XAO_0004058, obo.XAO_0004059, obo.XAO_0004060, obo.XAO_0004061, obo.XAO_0005171, obo.XAO_0004063, obo.XAO_0004064, obo.XAO_0004065, obo.XAO_0004066, obo.XAO_0004067, obo.XAO_0004068, obo.XAO_0004069, obo.XAO_0004070, obo.XAO_0004071, obo.XAO_0004072, obo.XAO_0004609, obo.XAO_0004230, obo.XAO_0004074, obo.XAO_0004075, obo.XAO_0004076, obo.XAO_0004077, obo.XAO_0004078, obo.XAO_0004079, obo.XAO_0004597, obo.XAO_0005026, obo.XAO_0004080, obo.XAO_0004081, obo.XAO_0004082, obo.XAO_0004083, obo.XAO_0004084, obo.XAO_0004085, obo.XAO_0004225, obo.XAO_0004088, obo.XAO_0004089, obo.XAO_0004132, obo.XAO_0004094, obo.XAO_0004095, obo.XAO_0004096, obo.XAO_0004097, obo.XAO_0004098, obo.XAO_0004267, obo.XAO_0004099, obo.XAO_0004100, obo.XAO_0004101, obo.XAO_0004102, obo.XAO_0004105, obo.XAO_0004106, obo.XAO_0004311, obo.XAO_0004107, obo.XAO_0004108, obo.XAO_0004109, obo.XAO_0004110, obo.XAO_0004111, obo.XAO_0004112, obo.XAO_0004113, obo.XAO_0004114, obo.XAO_0004115, obo.XAO_1000084, obo.XAO_0004116, obo.XAO_1000085, obo.XAO_0004117, obo.XAO_1000086, obo.XAO_0004118, obo.XAO_1000087, obo.XAO_0004119, obo.XAO_0004120, obo.XAO_0004121, obo.XAO_0004123, obo.XAO_0004124, obo.XAO_0004125, obo.XAO_0005308, obo.XAO_0004126, obo.XAO_0004127, obo.XAO_0004326, obo.XAO_0004444, obo.XAO_0004128, obo.XAO_0004129, obo.XAO_0004445, obo.XAO_0004130, obo.XAO_0004138, obo.XAO_0004131, obo.XAO_0004133, obo.XAO_0004135, obo.XAO_0004136, obo.XAO_0004137, obo.XAO_0004139, obo.XAO_0004140, obo.XAO_0004141, obo.XAO_0004142, obo.XAO_0004143, obo.XAO_0004145, obo.XAO_0004146, obo.XAO_0004147, obo.XAO_0004148, obo.XAO_0004628, obo.XAO_0004149, obo.XAO_0004150, obo.XAO_0004153, obo.XAO_0004154, obo.XAO_0004155, obo.XAO_0004156, obo.XAO_0004157, obo.XAO_0004158, obo.XAO_0004160, obo.XAO_0004159, obo.XAO_0004161, obo.XAO_0004162, obo.XAO_0004163, obo.XAO_0004164, obo.XAO_0004165, obo.XAO_0004166, obo.XAO_0004167, obo.XAO_0004168, obo.XAO_0004169, obo.XAO_0004170, obo.XAO_0004171, obo.XAO_0004172, obo.XAO_0004173, obo.XAO_0004174, obo.XAO_0004175, obo.XAO_0004176, obo.XAO_0004177, obo.XAO_0004178, obo.XAO_0004179, obo.XAO_0004180, obo.XAO_0004181, obo.XAO_0004475, obo.XAO_0004182, obo.XAO_0004183, obo.XAO_0004184, obo.XAO_0004187, obo.XAO_0004188, obo.XAO_0004189, obo.XAO_0004191, obo.XAO_0004192, obo.XAO_0004193, obo.XAO_0004194, obo.XAO_0004195, obo.XAO_0004196, obo.XAO_0004197, obo.XAO_0004198, obo.XAO_0004202, obo.XAO_0004199, obo.XAO_0004203, obo.XAO_0004200, obo.XAO_0004201, obo.XAO_0004204, obo.XAO_0004210, obo.XAO_0004211, obo.XAO_0004212, obo.XAO_0004213, obo.XAO_0004214, obo.XAO_0004215, obo.XAO_0004216, obo.XAO_0004217, obo.XAO_0004218, obo.XAO_0004219, obo.XAO_0004220, obo.XAO_0004221, obo.XAO_0004222, obo.XAO_0004223, obo.XAO_0004224, obo.XAO_0004226, obo.XAO_0004271, obo.XAO_0004227, obo.XAO_0004228, obo.XAO_0004229, obo.XAO_0004231, obo.XAO_0004232, obo.XAO_0004233, obo.XAO_0004234, obo.XAO_0004235, obo.XAO_0004236, obo.XAO_0004237, obo.XAO_0004258, obo.XAO_0004239, obo.XAO_0004240, obo.XAO_0004241, obo.XAO_0004242, obo.XAO_0004243, obo.XAO_0004244, obo.XAO_0004245, obo.XAO_0004246, obo.XAO_0004247, obo.XAO_0004248, obo.XAO_0004249, obo.XAO_0004250, obo.XAO_0004251, obo.XAO_0004252, obo.XAO_0004253, obo.XAO_0004254, obo.XAO_0004255, obo.XAO_0004256, obo.XAO_0004257, obo.XAO_0004259, obo.XAO_0004260, obo.XAO_0004463, obo.XAO_0004262, obo.XAO_0004263, obo.XAO_0004294, obo.XAO_0004264, obo.XAO_0004266, obo.XAO_0005195, obo.XAO_0004268, obo.XAO_0004269, obo.XAO_0004275, obo.XAO_0004277, obo.XAO_0004282, obo.XAO_0004278, obo.XAO_0004280, obo.XAO_0004281, obo.XAO_0004283, obo.XAO_0004286, obo.XAO_0004287, obo.XAO_0004288, obo.XAO_0004291, obo.XAO_0004292, obo.XAO_0004293, obo.XAO_0004490, obo.XAO_0004491, obo.XAO_0004301, obo.XAO_0004302, obo.XAO_0004303, obo.XAO_0004304, obo.XAO_0004306, obo.XAO_0004305, obo.XAO_0004307, obo.XAO_0004308, obo.XAO_0004309, obo.XAO_0004310, obo.XAO_0004312, obo.XAO_0004314, obo.XAO_0004315, obo.XAO_0004316, obo.XAO_0004317, obo.XAO_0004318, obo.XAO_0004319, obo.XAO_0004321, obo.XAO_0004455, obo.XAO_0004323, obo.XAO_0004324, obo.XAO_0004325, obo.XAO_0004327, obo.XAO_0004328, obo.XAO_0004425, obo.XAO_0004329, obo.XAO_0004426, obo.XAO_0004330, obo.XAO_0004427, obo.XAO_0004331, obo.XAO_0004428, obo.XAO_0004332, obo.XAO_0004429, obo.XAO_0004333, obo.XAO_0004430, obo.XAO_0004334, obo.XAO_0004431, obo.XAO_0004335, obo.XAO_0004432, obo.XAO_0004336, obo.XAO_0004433, obo.XAO_0004337, obo.XAO_0004434, obo.XAO_0004338, obo.XAO_0004435, obo.XAO_0004339, obo.XAO_0004436, obo.XAO_0004340, obo.XAO_0004437, obo.XAO_0004341, obo.XAO_0004438, obo.XAO_0004342, obo.XAO_0004439, obo.XAO_0004343, obo.XAO_0004440, obo.XAO_0004344, obo.XAO_0004441, obo.XAO_0004345, obo.XAO_0004442, obo.XAO_0004346, obo.XAO_0004443, obo.XAO_0004349, obo.XAO_0004351, obo.XAO_0004446, obo.XAO_0004350, obo.XAO_0004447, obo.XAO_0004448, obo.XAO_0004352, obo.XAO_0004449, obo.XAO_0004353, obo.XAO_0004450, obo.XAO_0004354, obo.XAO_0004451, obo.XAO_0004355, obo.XAO_0004452, obo.XAO_0004356, obo.XAO_0004453, obo.XAO_0004357, obo.XAO_0004454, obo.XAO_0004358, obo.XAO_0004359, obo.XAO_0004360, obo.XAO_0004361, obo.XAO_0004362, obo.XAO_0004363, obo.XAO_0004364, obo.XAO_0004365, obo.XAO_0004366, obo.XAO_0004367, obo.XAO_0004368, obo.XAO_0004369, obo.XAO_0004370, obo.XAO_0004371, obo.XAO_0004372, obo.XAO_0004373, obo.XAO_0004374, obo.XAO_0004375, obo.XAO_0004376, obo.XAO_0004377, obo.XAO_0004378, obo.XAO_0004379, obo.XAO_0004380, obo.XAO_0004381, obo.XAO_0004384, obo.XAO_0004385, obo.XAO_0004387, obo.XAO_0004388, obo.XAO_0004389, obo.XAO_0004390, obo.XAO_0004391, obo.XAO_0004392, obo.XAO_0004393, obo.XAO_0004395, obo.XAO_0004396, obo.XAO_0004397, obo.XAO_0004398, obo.XAO_0004399, obo.XAO_0004400, obo.XAO_0004401, obo.XAO_0004402, obo.XAO_0004403, obo.XAO_0004404, obo.XAO_0004405, obo.XAO_0004407, obo.XAO_0004408, obo.XAO_0004409, obo.XAO_0004410, obo.XAO_0004412, obo.XAO_0004413, obo.XAO_0004414, obo.XAO_0004415, obo.XAO_0004417, obo.XAO_0004418, obo.XAO_0004419, obo.XAO_0004420, obo.XAO_0004421, obo.XAO_0004422, obo.XAO_0004457, obo.XAO_0004424, obo.XAO_0004456, obo.XAO_0004458, obo.XAO_0004459, obo.XAO_0004460, obo.XAO_0004461, obo.XAO_0004462, obo.XAO_0004464, obo.XAO_0004465, obo.XAO_0004467, obo.XAO_0004468, obo.XAO_0004469, obo.XAO_0004470, obo.XAO_0004471, obo.XAO_0004472, obo.XAO_0004474, obo.XAO_0004476, obo.XAO_0004477, obo.XAO_0004478, obo.XAO_0004479, obo.XAO_0004480, obo.XAO_0004481, obo.XAO_0004483, obo.XAO_0004484, obo.XAO_0004485, obo.XAO_0004486, obo.XAO_0004487, obo.XAO_0004488, obo.XAO_0004489, obo.XAO_0004492, obo.XAO_0004494, obo.XAO_0004496, obo.XAO_0004495, obo.XAO_0004497, obo.XAO_0004498, obo.XAO_0004499, obo.XAO_0004500, obo.XAO_0004501, obo.XAO_0004502, obo.XAO_0004503, obo.XAO_0004504, obo.XAO_0004505, obo.XAO_0004506, obo.XAO_0004507, obo.XAO_0004508, obo.XAO_0004509, obo.XAO_0004514, obo.XAO_0004515, obo.XAO_0004516, obo.XAO_0004517, obo.XAO_0004520, obo.XAO_0004522, obo.XAO_0004523, obo.XAO_0004525, obo.XAO_0004526, obo.XAO_0004527, obo.XAO_0005024, obo.XAO_0004530, obo.XAO_0004531, obo.XAO_0004539, obo.XAO_0004563, obo.XAO_0004594, obo.XAO_0004532, obo.XAO_0004533, obo.XAO_0004534, obo.XAO_0004578, obo.XAO_0004535, obo.XAO_0004536, obo.XAO_0004537, obo.XAO_0004538, obo.XAO_0004540, obo.XAO_0004541, obo.XAO_0004542, obo.XAO_0004587, obo.XAO_0004543, obo.XAO_0004544, obo.XAO_0004545, obo.XAO_0004546, obo.XAO_0004556, obo.XAO_0004547, obo.XAO_0004548, obo.XAO_0004549, obo.XAO_0004585, obo.XAO_0004551, obo.XAO_0004552, obo.XAO_0004553, obo.XAO_0004554, obo.XAO_0004555, obo.XAO_0004557, obo.XAO_0004558, obo.XAO_0004559, obo.XAO_0004560, obo.XAO_0004562, obo.XAO_0004564, obo.XAO_0004565, obo.XAO_0004566, obo.XAO_0004567, obo.XAO_0004583, obo.XAO_0004568, obo.XAO_0004570, obo.XAO_0004571, obo.XAO_0004573, obo.XAO_0004574, obo.XAO_0004575, obo.XAO_0004576, obo.XAO_0004579, obo.XAO_0004580, obo.XAO_0004581, obo.XAO_0004582, obo.XAO_0004584, obo.XAO_0004586, obo.XAO_0005048, obo.XAO_0004588, obo.XAO_0004589, obo.XAO_0004590, obo.XAO_0004591, obo.XAO_0004592, obo.XAO_0004593, obo.XAO_0004595, obo.XAO_0004596, obo.XAO_0004598, obo.XAO_0004599, obo.XAO_0004600, obo.XAO_0004601, obo.XAO_0004605, obo.XAO_0004606, obo.XAO_0004607, obo.XAO_0004608, obo.XAO_0004610, obo.XAO_0004611, obo.XAO_0004612, obo.XAO_0004613, obo.XAO_0004614, obo.XAO_0005008, obo.XAO_0004615, obo.XAO_0004616, obo.XAO_0004617, obo.XAO_0004618, obo.XAO_0004619, obo.XAO_0004622, obo.XAO_0004623, obo.XAO_0004624, obo.XAO_0004625, obo.XAO_0004626, obo.XAO_0004627, obo.XAO_0005001, obo.XAO_0005003, obo.XAO_0005004, obo.XAO_0005236, obo.XAO_0005005, obo.XAO_0005006, obo.XAO_0005007, obo.XAO_0005009, obo.XAO_0005010, obo.XAO_0005317, obo.XAO_0005011, obo.XAO_0005014, obo.XAO_0005012, obo.XAO_0005013, obo.XAO_0005015, obo.XAO_0005016, obo.XAO_0005018, obo.XAO_0005020, obo.XAO_0005021, obo.XAO_0005022, obo.XAO_0005023, obo.XAO_0005071, obo.XAO_0005025, obo.XAO_0005027, obo.XAO_0005028, obo.XAO_0005029, obo.XAO_0005030, obo.XAO_0005031, obo.XAO_0005032, obo.XAO_0005034, obo.XAO_0005035, obo.XAO_0005036, obo.XAO_0005037, obo.XAO_0005039, obo.XAO_0005040, obo.XAO_0005041, obo.XAO_0005042, obo.XAO_0005043, obo.XAO_0005044, obo.XAO_0005045, obo.XAO_0005046, obo.XAO_0005047, obo.XAO_0005049, obo.XAO_0005050, obo.XAO_0005051, obo.XAO_0005052, obo.XAO_0005053, obo.XAO_0005054, obo.XAO_0005055, obo.XAO_0005056, obo.XAO_0005057, obo.XAO_0005058, obo.XAO_0005059, obo.XAO_0005060, obo.XAO_0005061, obo.XAO_0005063, obo.XAO_0005064, obo.XAO_0005065, obo.XAO_0005066, obo.XAO_0005067, obo.XAO_0005068, obo.XAO_0005069, obo.XAO_0005070, obo.XAO_0005072, obo.XAO_0005073, obo.XAO_0005074, obo.XAO_0005075, obo.XAO_0005076, obo.XAO_0005077, obo.XAO_0005078, obo.XAO_0005079, obo.XAO_0005081, obo.XAO_0005082, obo.XAO_0005083, obo.XAO_0005084, obo.XAO_0005085, obo.XAO_0005086, obo.XAO_0005087, obo.XAO_0005088, obo.XAO_0005113, obo.XAO_1000015, obo.XAO_0005089, obo.XAO_0005090, obo.XAO_0005112, obo.XAO_0005091, obo.XAO_0005092, obo.XAO_0005115, obo.XAO_0005093, obo.XAO_0005094, obo.XAO_0005114, obo.XAO_0005095, obo.XAO_0005096, obo.XAO_0005097, obo.XAO_0005098, obo.XAO_0005099, obo.XAO_0005100, obo.XAO_0005101, obo.XAO_0005102, obo.XAO_0005103, obo.XAO_0005104, obo.XAO_0005105, obo.XAO_0005106, obo.XAO_0005107, obo.XAO_0005108, obo.XAO_0005109, obo.XAO_0005110, obo.XAO_0005111, obo.XAO_0005116, obo.XAO_0005117, obo.XAO_0005118, obo.XAO_0005119, obo.XAO_0005120, obo.XAO_0005121, obo.XAO_0005122, obo.XAO_0005123, obo.XAO_0005124, obo.XAO_0005125, obo.XAO_0005126, obo.XAO_0005128, obo.XAO_0005129, obo.XAO_0005131, obo.XAO_0005132, obo.XAO_0005133, obo.XAO_0005134, obo.XAO_0005135, obo.XAO_0005136, obo.XAO_0005137, obo.XAO_0005138, obo.XAO_0005139, obo.XAO_0005180, obo.XAO_0005142, obo.XAO_0005143, obo.XAO_0005144, obo.XAO_0005145, obo.XAO_0005146, obo.XAO_0005225, obo.XAO_0005147, obo.XAO_0005314, obo.XAO_0005148, obo.XAO_0005149, obo.XAO_0005150, obo.XAO_0005151, obo.XAO_0005152, obo.XAO_0005153, obo.XAO_0005154, obo.XAO_0005155, obo.XAO_0005156, obo.XAO_0005157, obo.XAO_0005159, obo.XAO_0005160, obo.XAO_0005161, obo.XAO_0005162, obo.XAO_0005163, obo.XAO_0005164, obo.XAO_0005165, obo.XAO_0005166, obo.XAO_0005167, obo.XAO_0005168, obo.XAO_0005169, obo.XAO_0005170, obo.XAO_0005172, obo.XAO_0005173, obo.XAO_0005174, obo.XAO_1000013, obo.XAO_0005175, obo.XAO_0005176, obo.XAO_0005177, obo.XAO_0005178, obo.XAO_0005179, obo.XAO_0005181, obo.XAO_0005182, obo.XAO_0005183, obo.XAO_0005184, obo.XAO_0005185, obo.XAO_0005186, obo.XAO_0005187, obo.XAO_0005188, obo.XAO_0005189, obo.XAO_0005190, obo.XAO_0005191, obo.XAO_0005192, obo.XAO_0005193, obo.XAO_0005194, obo.XAO_0005196, obo.XAO_0005197, obo.XAO_0005200, obo.XAO_0005201, obo.XAO_0005202, obo.XAO_0005203, obo.XAO_0005204, obo.XAO_0005205, obo.XAO_0005206, obo.XAO_0005207, obo.XAO_0005208, obo.XAO_0005209, obo.XAO_0005210, obo.XAO_0005211, obo.XAO_0005212, obo.XAO_0005213, obo.XAO_0005214, obo.XAO_0005215, obo.XAO_0005216, obo.XAO_0005217, obo.XAO_0005218, obo.XAO_0005219, obo.XAO_0005220, obo.XAO_0005221, obo.XAO_0005222, obo.XAO_0005223, obo.XAO_0005224, obo.XAO_0005227, obo.XAO_0005228, obo.XAO_0005229, obo.XAO_0005231, obo.XAO_0005232, obo.XAO_0005233, obo.XAO_0005234, obo.XAO_0005235, obo.XAO_0005238, obo.XAO_0005239, obo.XAO_0005240, obo.XAO_0005242, obo.XAO_0005246, obo.XAO_0005247, obo.XAO_0005248, obo.XAO_0005250, obo.XAO_0005249, obo.XAO_0005251, obo.XAO_0005252, obo.XAO_0005253, obo.XAO_0005254, obo.XAO_0005255, obo.XAO_0005256, obo.XAO_0005257, obo.XAO_0005258, obo.XAO_0005259, obo.XAO_0005260, obo.XAO_0005261, obo.XAO_0005262, obo.XAO_0005263, obo.XAO_0005264, obo.XAO_0005265, obo.XAO_0005266, obo.XAO_0005267, obo.XAO_1000077, obo.XAO_0005268, obo.XAO_0005269, obo.XAO_0005270, obo.XAO_0005271, obo.XAO_0005272, obo.XAO_0005273, obo.XAO_0005274, obo.XAO_0005275, obo.XAO_0005276, obo.XAO_0005277, obo.XAO_0005278, obo.XAO_0005279, obo.XAO_0005280, obo.XAO_0005281, obo.XAO_0005282, obo.XAO_0005284, obo.XAO_0005311, obo.XAO_0005285, obo.XAO_0005286, obo.XAO_0005288, obo.XAO_0005289, obo.XAO_0005290, obo.XAO_0005291, obo.XAO_0005292, obo.XAO_0005293, obo.XAO_0005294, obo.XAO_0005295, obo.XAO_0005296, obo.XAO_0005297, obo.XAO_0005298, obo.XAO_0005299, obo.XAO_0005300, obo.XAO_0005301, obo.XAO_0005302, obo.XAO_0005303, obo.XAO_0005304, obo.XAO_0005305, obo.XAO_0005306, obo.XAO_0005307, obo.XAO_0005312, obo.XAO_0005313, obo.XAO_0005315, obo.XAO_0005318, obo.XAO_0005319, obo.XAO_0005320, obo.XAO_0005321, obo.XAO_0005322, obo.XAO_0005324, obo.XAO_0005326, obo.XAO_1000094, obo.XAO_1000012, obo.XAO_1000002, obo.XAO_1000007, obo.XAO_1000003, obo.XAO_1000004, obo.XAO_1000005, obo.XAO_1000006, obo.XAO_1000008, obo.XAO_1000009, obo.XAO_1000028, obo.XAO_1000082, obo.XAO_1000029, obo.XAO_1000080, obo.XAO_1000089, obo.XAO_1000090, obo.XAO_1000091, obo.XAO_1000079, obo.XAO_1000081]\n",
      "\n",
      "Propiedades de objeto: \n",
      "[obo.BFO_0000050, obo.RO_0002202, xao.end_stage, xao.preceded_by, xao.start_stage]\n",
      "\n",
      "Propiedades de datos: \n",
      "[]\n",
      "\n",
      "Instancias: \n",
      "[]\n"
     ]
    }
   ],
   "source": [
    "# Ejercicio 3\n",
    "# Mostrar clases, propiedades e instancias\n",
    "\n",
    "print(\"Clases: \")\n",
    "print (list(onto.classes()))\n",
    "print()\n",
    "print(\"Propiedades de objeto: \")\n",
    "print (list(onto.object_properties()))\n",
    "print()\n",
    "print(\"Propiedades de datos: \")\n",
    "print (list(onto.data_properties()))\n",
    "print()\n",
    "print(\"Instancias: \")\n",
    "print (list(onto.individuals()))"
   ]
  },
  {
   "cell_type": "code",
   "execution_count": 5,
   "metadata": {},
   "outputs": [
    {
     "name": "stdin",
     "output_type": "stream",
     "text": [
      "Introduzca la instancia que desea borrar: s\n"
     ]
    },
    {
     "name": "stdout",
     "output_type": "stream",
     "text": [
      "No se ha encontrado la instancia...\n"
     ]
    }
   ],
   "source": [
    "# Ejercicio 4\n",
    "# Función permite eliminar una instancia existente\n",
    "\n",
    "instDel = input(\"Introduzca la instancia que desea borrar:\")\n",
    "inst=list(onto.individuals())\n",
    "aux=0\n",
    "for i in inst:\n",
    "    if(i.name==instDel):\n",
    "        destroy_entity(i)\n",
    "        aux=1\n",
    "        print(\"La instancia ha sido borrada con éxito!\")\n",
    "        \n",
    "if(aux==0):\n",
    "    print(\"No se ha encontrado la instancia...\")\n",
    "    \n",
    "onto.save(file=\"onotologiaModificada.rdf\", format=\"rdfxml\")"
   ]
  },
  {
   "cell_type": "code",
   "execution_count": 6,
   "metadata": {},
   "outputs": [
    {
     "name": "stdin",
     "output_type": "stream",
     "text": [
      "Introduzca la instancia que desea borrar: s\n"
     ]
    },
    {
     "name": "stdout",
     "output_type": "stream",
     "text": [
      "Intancia añadida con éxito!\n"
     ]
    }
   ],
   "source": [
    "# Ejercicio 5\n",
    "# Función permite agregar una instancia a una clase existente\n",
    "\n",
    "instAdd = input(\"Introduzca la instancia que desea añadir:\")\n",
    "obo=get_namespace(\"http://purl.obolibrary.org/obo/\")\n",
    "obo.XAO_0000113(instAdd)\n",
    "print(\"Intancia añadida con éxito!\")\n",
    "\n",
    "onto.save(file=\"onotologiaModificada.rdf\", format=\"rdfxml\")"
   ]
  },
  {
   "cell_type": "code",
   "execution_count": 2,
   "metadata": {},
   "outputs": [
    {
     "name": "stdin",
     "output_type": "stream",
     "text": [
      "Introduzca una primera instancia:  h\n"
     ]
    },
    {
     "name": "stdout",
     "output_type": "stream",
     "text": [
      "Instancia no encontrada...\n"
     ]
    },
    {
     "ename": "SystemExit",
     "evalue": "",
     "output_type": "error",
     "traceback": [
      "An exception has occurred, use %tb to see the full traceback.\n",
      "\u001b[1;31mSystemExit\u001b[0m\n"
     ]
    },
    {
     "name": "stderr",
     "output_type": "stream",
     "text": [
      "D:\\Anaconda\\lib\\site-packages\\IPython\\core\\interactiveshell.py:3426: UserWarning: To exit: use 'exit', 'quit', or Ctrl-D.\n",
      "  warn(\"To exit: use 'exit', 'quit', or Ctrl-D.\", stacklevel=1)\n"
     ]
    }
   ],
   "source": [
    "# Ejercicio 6\n",
    "# Función que solicite al usuario 2 instancias y una propiedad de objeto que permita unirlas\n",
    "\n",
    "instUno = input(\"Introduzca una primera instancia: \")\n",
    "instancias = list(onto.individuals())\n",
    "aux = 0\n",
    "for i in instancias:\n",
    "    if(i.name == instUno):\n",
    "        aux=1\n",
    "        print(\"Instancia encontrada\")\n",
    "        \n",
    "if(aux == 0):\n",
    "    print(\"Instancia no encontrada...\")\n",
    "    sys.exit()\n",
    "    \n",
    "instDos = input(\"Introduzca una segunda instancia: \")\n",
    "aux = 0\n",
    "for i in instancias:\n",
    "    if(i.name == instDos):\n",
    "        aux=1\n",
    "        print(\"Instancia encontrada\")\n",
    "        \n",
    "if(aux == 0):\n",
    "    print(\"Instancia no encontrada...\")\n",
    "    sys.exit()\n",
    "    \n",
    "propiedad = input(\"Introduzca la propiedad de objeto que desea unir: \")\n",
    "propiedades = list(onto.object_properties())\n",
    "aux = 0\n",
    "for i in propiedades:\n",
    "    if(i.name == instUno):\n",
    "        aux=1\n",
    "        print(\"Propiedad de objeto encontrada\")\n",
    "        \n",
    "if(aux == 0):\n",
    "    print(\"LPropiedad de objeto no encontrada...\")\n",
    "    sys.exit()\n",
    "    \n",
    "instUno.propiedad = [instDos]\n",
    "onto.save(file = \"ontologiaModificada.rdf\", format = \"rdfxml\")"
   ]
  },
  {
   "cell_type": "code",
   "execution_count": null,
   "metadata": {},
   "outputs": [],
   "source": []
  }
 ],
 "metadata": {
  "kernelspec": {
   "display_name": "Python 3",
   "language": "python",
   "name": "python3"
  },
  "language_info": {
   "codemirror_mode": {
    "name": "ipython",
    "version": 3
   },
   "file_extension": ".py",
   "mimetype": "text/x-python",
   "name": "python",
   "nbconvert_exporter": "python",
   "pygments_lexer": "ipython3",
   "version": "3.8.5"
  }
 },
 "nbformat": 4,
 "nbformat_minor": 4
}
